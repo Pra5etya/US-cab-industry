version https://git-lfs.github.com/spec/v1
oid sha256:269d5377c11f6917156af5dde92789ba35f1a434848b6439fd4c3702b2c3cd86
size 279436
