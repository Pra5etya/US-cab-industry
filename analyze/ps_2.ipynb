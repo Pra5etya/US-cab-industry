version https://git-lfs.github.com/spec/v1
oid sha256:801361978fbcb151ca85e24a9388cfb6201a76cfa5da518a42732b52d38c68a5
size 379749
