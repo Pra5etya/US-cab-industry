version https://git-lfs.github.com/spec/v1
oid sha256:2fc64e3046a46ed554fe42341690af8ee99336c8ee23f56044709925c17a7898
size 380097
