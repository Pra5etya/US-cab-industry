version https://git-lfs.github.com/spec/v1
oid sha256:3b3e3948da032b7a79c9f6cc849cbd2145b5fc599ad12669a769b4b055c9dc71
size 544575
