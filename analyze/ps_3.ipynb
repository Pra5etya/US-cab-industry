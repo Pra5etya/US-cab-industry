version https://git-lfs.github.com/spec/v1
oid sha256:4d980cbce08a5ff92989ce6e62781fb20e5e9f74608534d53c849e33c2efef7b
size 395998
