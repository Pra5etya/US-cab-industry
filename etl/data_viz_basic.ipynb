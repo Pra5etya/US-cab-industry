version https://git-lfs.github.com/spec/v1
oid sha256:77c89851893f85c3a10ff5efe254a5e5af60dac1f26ef2bdd13384251f862023
size 1011362
