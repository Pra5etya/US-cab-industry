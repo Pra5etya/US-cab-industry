version https://git-lfs.github.com/spec/v1
oid sha256:a1b93795119673f202bff62539cb6fabb3aceb920d04eda113e4838c34dddbd1
size 1012057
