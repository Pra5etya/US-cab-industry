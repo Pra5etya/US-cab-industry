version https://git-lfs.github.com/spec/v1
oid sha256:78c0716264ed18542ba6e8404b204fc9a30f27a6e698b77baad3d2076e482d92
size 1011589
