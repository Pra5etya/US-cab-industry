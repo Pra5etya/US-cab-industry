version https://git-lfs.github.com/spec/v1
oid sha256:3f0e0db49c2104ae25f7cc0f949f3157c6b879e4b236e641472e3d0d90ab8206
size 112202
